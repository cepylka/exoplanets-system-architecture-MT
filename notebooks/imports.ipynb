{
 "cells": [
  {
   "cell_type": "code",
   "execution_count": 1,
   "outputs": [],
   "source": [
    "import pyvo\n",
    "import numpy\n",
    "from tabulate import tabulate\n",
    "import pandas\n",
    "import warnings\n",
    "import matplotlib\n",
    "warnings.filterwarnings(\"ignore\", category=UserWarning)\n",
    "import math\n",
    "service = pyvo.dal.TAPService(\"http://voparis-tap-planeto.obspm.fr/tap\")\n",
    "import seaborn\n",
    "\n",
    "import matplotlib.pyplot as plt\n",
    "from astropy import units\n",
    "from astropy import constants\n",
    "from astropy.visualization import quantity_support\n",
    "from matplotlib_inline.backend_inline import set_matplotlib_formats\n",
    "from matplotlib import cm\n",
    "import matplotlib.colors\n",
    "import matplotlib.ticker\n",
    "from scipy import stats # For in-built method to get PCC\n",
    "import scipy.optimize\n",
    "from scipy import interpolate\n",
    "from scipy.interpolate import InterpolatedUnivariateSpline\n",
    "from scipy.integrate import trapz\n",
    "from scipy.stats import norm\n",
    "\n",
    "\n",
    "from matplotlib.colors import ListedColormap\n",
    "from matplotlib.colors import LogNorm\n",
    "\n",
    "from collections import OrderedDict\n",
    "from matplotlib.lines import Line2D\n",
    "import itertools\n",
    "from collections import OrderedDict\n",
    "from functools import partial\n",
    "import matplotlib.ticker as mticker\n",
    "from cycler import cycler\n",
    "mass_coeff = constants.M_jup / constants.M_earth\n",
    "radius_coeff = constants.R_jup / constants.R_earth\n",
    "pandas.options.mode.use_inf_as_na = True\n",
    "\n",
    "quantity_support()\n",
    "set_matplotlib_formats('svg')\n",
    "\n",
    "\n",
    "curves = pandas.read_fwf(\"../data/curves_all.txt\", index_col=0)#, header=None)\n",
    "\n",
    "pandas.options.mode.use_inf_as_na = True\n",
    "\n",
    "def lookForParameterInNASA(planetName, param):\n",
    "    queryNASA = (\n",
    "        \" \".join((\n",
    "            \"SELECT * FROM\",\n",
    "            \"(WITH latestEntries AS\",\n",
    "            f\"(SELECT {', '.join(fieldsNASA)}, {param},\",\n",
    "            f\"ROW_NUMBER() OVER(PARTITION BY pl_name ORDER BY CASE WHEN {param} IS NULL THEN 1 ELSE 0 END, pl_pubdate DESC) AS rank\",\n",
    "            f\"FROM {tableNameNASA}\",\n",
    "            f\"WHERE LOWER(pl_name) = LOWER('{planetName}'))\",\n",
    "            f\"SELECT {param} FROM latestEntries WHERE rank = 1 AND {param} IS NOT NULL)\"\n",
    "        ))\n",
    "    )\n",
    "    resultsNASA = serviceNASA.search(queryNASA)\n",
    "    if len(resultsNASA) != 0:\n",
    "        return resultsNASA[0].get(param)\n",
    "    else:\n",
    "        return None"
   ],
   "metadata": {
    "collapsed": false,
    "pycharm": {
     "name": "#%%\n"
    }
   }
  }
 ],
 "metadata": {
  "kernelspec": {
   "display_name": "Python 3",
   "language": "python",
   "name": "python3"
  },
  "language_info": {
   "codemirror_mode": {
    "name": "ipython",
    "version": 2
   },
   "file_extension": ".py",
   "mimetype": "text/x-python",
   "name": "python",
   "nbconvert_exporter": "python",
   "pygments_lexer": "ipython2",
   "version": "2.7.6"
  }
 },
 "nbformat": 4,
 "nbformat_minor": 0
}